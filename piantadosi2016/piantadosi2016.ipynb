{
 "cells": [
  {
   "cell_type": "markdown",
   "metadata": {},
   "source": [
    "<div align=\"right\"><a href=\"http://mybinder.org/repo/humm/recode/piantadosi2016/piantadosi2016.ipynb\">run online</a> | <a href=\"http://fabien.benureau.com/recode/piantadosi2016/piantadosi2016.html\">html</a> | <a href=\"https://github.com/humm/recode/tree/master/piantadosi2016\">github</a> | <a href=\"https://dx.doi.org/\">figshare link</a></div>"
   ]
  },
  {
   "cell_type": "markdown",
   "metadata": {},
   "source": [
    "# Recode: Extraordinary intelligence and the care of infants"
   ]
  },
  {
   "cell_type": "markdown",
   "metadata": {},
   "source": [
    "* TODO: figshare link x3\n",
    "* TODO: hover tool for Fig2B.\n",
    "* TODO: colorbar fig2a\n",
    "* TODO: white demarcations fig2a"
   ]
  },
  {
   "cell_type": "markdown",
   "metadata": {},
   "source": [
    "We recode here the model of the article \"[Extraordinary intelligence and the care of infants](http://www.pnas.org/cgi/doi/10.1073/pnas.1506752113)\" by [Steve Piantadosi](https://colala.bcs.rochester.edu/people/piantadosi/) and [Celeste Kidd](http://www.bcs.rochester.edu/people/ckidd/). The pdf is [available here](http://www.bcs.rochester.edu/people/ckidd/papers/PiantadosiKidd2016Extraord.pdf). Here, we only succinctly describe the model; refer to the original article for details and for the rationale behind the model's choices.\n",
    "\n",
    "The spirit of this notebook is to use simple code that is easy to understand and modify. This notebook requires no specific knowledge beyond a basic grasp of the Python language. We show *all the code* of the model, without relying on any library beyond [numpy](http://www.numpy.org/). Only the plotting routines, using the [bokeh](http://bokeh.pydata.org/) library, have been abstracted away in the [graphs.py](https://github.com/humm/recode/blob/master/piantadosi2016/graphs.py) file.\n",
    "\n",
    "A citable version of this notebook is available at [figshare](https://dx.doi.org/). You can contact me for questions or remarks at `fabien.benureau@gmail.com`."
   ]
  },
  {
   "cell_type": "code",
   "execution_count": null,
   "metadata": {
    "collapsed": false
   },
   "outputs": [],
   "source": [
    "import numpy as np\n",
    "import graphs\n",
    "np.random.seed(0)                                                                                 # repeatable results."
   ]
  },
  {
   "cell_type": "markdown",
   "metadata": {},
   "source": [
    "## Model Equations"
   ]
  },
  {
   "cell_type": "markdown",
   "metadata": {},
   "source": [
    "Piantosi and Kidd's model ties together three main parameters:\n",
    "* $R$, the size of the adult brain.\n",
    "* $T$, the duration of the gestation period.\n",
    "* $I_p$, a quantification of the intelligence of the parents.\n",
    "\n"
   ]
  },
  {
   "cell_type": "markdown",
   "metadata": {},
   "source": [
    "The growth of the child's head, $g(t, R)$ with $t$ being the age, follows a [Gompertz growth curve](https://en.wikipedia.org/wiki/Gompertz_function), with $b$ and $c$ free parameters, fitted to 37.1 and 0.42 respectively."
   ]
  },
  {
   "cell_type": "markdown",
   "metadata": {},
   "source": [
    "$$g(t, R) = Re^{-be^{-ct}}$$"
   ]
  },
  {
   "cell_type": "code",
   "execution_count": null,
   "metadata": {
    "collapsed": false
   },
   "outputs": [],
   "source": [
    "def g(t, R, b=37.1, c=0.42):\n",
    "    \"\"\"Size of the head at time t, given an adult size R.\"\"\"\n",
    "    return R * np.exp(-b * np.exp(-c * t))"
   ]
  },
  {
   "cell_type": "markdown",
   "metadata": {},
   "source": [
    "Because a large head means a more difficult and dangerous birth, the probability to survive childbirth decreases ([sigmoidally](https://en.wikipedia.org/wiki/Sigmoid_function)) when the head size at birth exceed a fixed parameter $V$, fitted to 5.48 cm. Here $T$ is the duration of the gestation period."
   ]
  },
  {
   "cell_type": "markdown",
   "metadata": {},
   "source": [
    "$$P(\\textrm{survive childbirth}\\,|\\,T,R) = \\phi(V - g(T,R))$$"
   ]
  },
  {
   "cell_type": "code",
   "execution_count": null,
   "metadata": {
    "collapsed": true
   },
   "outputs": [],
   "source": [
    "def phi(z):\n",
    "    \"\"\"Sigmoid function\"\"\"\n",
    "    return 1/(1 + np.exp(-z))\n",
    "\n",
    "def P_sb(T, R, V=5.48, g=g):\n",
    "    \"\"\"Probability to survive birth\"\"\"\n",
    "    return phi(V - g(T, R))"
   ]
  },
  {
   "cell_type": "markdown",
   "metadata": {},
   "source": [
    "The probability to survive adulthood is tied to the time after birth to reach maturity $M$ ($M$ solves $g(M + T, R) = 0.99R$), and the intelligence of the parents $I_p$."
   ]
  },
  {
   "cell_type": "markdown",
   "metadata": {},
   "source": [
    "$$P(\\textrm{survive to adulthood}\\,|\\,M,I_p) = e^{-M(\\gamma/I_p)}$$"
   ]
  },
  {
   "cell_type": "code",
   "execution_count": null,
   "metadata": {
    "collapsed": true
   },
   "outputs": [],
   "source": [
    "def P_sc(M, I_p, gamma=0.4):\n",
    "    \"\"\"Probability to survive childhood\"\"\"\n",
    "    return np.exp(-max(0, M) * gamma / I_p)"
   ]
  },
  {
   "cell_type": "markdown",
   "metadata": {},
   "source": [
    "The article assumes that $I_p$ is equal to $R$ [[1]](#Footnotes) for Figure 1 and 2A. To try other relationships, modify the following function:"
   ]
  },
  {
   "cell_type": "code",
   "execution_count": null,
   "metadata": {
    "collapsed": true
   },
   "outputs": [],
   "source": [
    "def I(R):\n",
    "    \"\"\"Return the intelligence (of the parents) as a function of R\"\"\"\n",
    "    return R"
   ]
  },
  {
   "cell_type": "markdown",
   "metadata": {},
   "source": [
    "## Figure 1: Child Growth, Birth and Childhood Survival"
   ]
  },
  {
   "cell_type": "markdown",
   "metadata": {},
   "source": [
    "We reproduce Figure 1. The continuous line correspond to $R$ = 8.4 cm, and the dashed line to $R$ = 4.2 cm. You can modify the latter by using the slider bellow."
   ]
  },
  {
   "cell_type": "code",
   "execution_count": null,
   "metadata": {
    "collapsed": false,
    "scrolled": true
   },
   "outputs": [],
   "source": [
    "ts = np.linspace(0, 25, 251)                                      ## i.e., ts = [0.0, 0.1, 0.2, ..., 24.8, 24.9, 25.0] \n",
    "fig1_data = graphs.fig1(ts, g, P_sb, P_sc, I, R=8.4/2)"
   ]
  },
  {
   "cell_type": "code",
   "execution_count": null,
   "metadata": {
    "collapsed": false,
    "scrolled": false
   },
   "outputs": [],
   "source": [
    "def update_fig1(R):\n",
    "    graphs.update_fig1(fig1_data, g, P_sb, P_sc, R)\n",
    "graphs.interact(update_fig1, R=graphs.FloatSlider(min=0.1,max=20.0,step=0.1,value=4.2))"
   ]
  },
  {
   "cell_type": "markdown",
   "metadata": {},
   "source": [
    "If the slider has no effect, rerun the last two code cells."
   ]
  },
  {
   "cell_type": "markdown",
   "metadata": {},
   "source": [
    "## Figure 2A: Fitness Landscape"
   ]
  },
  {
   "cell_type": "markdown",
   "metadata": {},
   "source": [
    "To reproduce Figure 2A, we need to compute $M$, which solves $g(M + T, R) = 0.99R$, the solution of which does not actually depends on the value of $R$. But we employ a simple [dichotomy method](https://en.wikipedia.org/wiki/Bisection_method) regardless, rather than a precomputed answer, to allow for arbitrary modification of the $g$ function."
   ]
  },
  {
   "cell_type": "code",
   "execution_count": null,
   "metadata": {
    "collapsed": false
   },
   "outputs": [],
   "source": [
    "def solve_MT(R, g, b, c):\n",
    "    \"\"\"Return M+T, with M+T solving g(M+T, R) == 0.99*R.\"\"\"\n",
    "    return -np.log(-np.log(0.99)/b)/c            # uncomment this line for faster computation if you did not modify g.\n",
    "    \n",
    "    low, up = 1e-3, 25\n",
    "    while up-low > 1e-3:                                                                  # simple dichotomy algorithm.\n",
    "        middle = 0.5*(up + low)\n",
    "        if g(middle, R, b=b, c=c) < 0.99*R:\n",
    "            low = middle\n",
    "        else:\n",
    "            up = middle\n",
    "    return 0.5*(up+low)"
   ]
  },
  {
   "cell_type": "code",
   "execution_count": null,
   "metadata": {
    "collapsed": false
   },
   "outputs": [],
   "source": [
    "K = 400                                                                               # K resolution of the landscape.\n",
    "Ts = np.linspace(  0, 30, K+1)                                               # birth age, K+1 points between 0 and 30. \n",
    "Rs = np.linspace(0.1, 10, K)                                   # brain size (radius, cm), K points between 0.1 and 10.\n",
    "\n",
    "def probability_matrix(Ts, Rs, gamma=0.4, V=5.48, b=37.1, c=0.42):\n",
    "    \"\"\"Return the matrix of the probabilities to survive until adulthood.\"\"\"\n",
    "    D = []\n",
    "    for R in Rs:\n",
    "        D.append([])\n",
    "        MT = solve_MT(R, g, b, c) # MT = M + T\n",
    "        for T in Ts:\n",
    "            D[-1].append(P_sb(T, R, V=V)*P_sc(MT-T, I(R), gamma=gamma))\n",
    "    return D"
   ]
  },
  {
   "cell_type": "code",
   "execution_count": null,
   "metadata": {
    "collapsed": false
   },
   "outputs": [],
   "source": [
    "D = probability_matrix(Ts, Rs, gamma=0.4, V=5.48)\n",
    "fig2a_data = graphs.fig2a(D)"
   ]
  },
  {
   "cell_type": "code",
   "execution_count": null,
   "metadata": {
    "collapsed": false
   },
   "outputs": [],
   "source": [
    "def update_fig2a(gamma, V):\n",
    "    D = probability_matrix(Ts, Rs, gamma=gamma, V=V, b=37.1, c=0.42)\n",
    "    graphs.update_fig2a(fig2a_data, D, gamma, V)\n",
    "\n",
    "graphs.interact(update_fig2a, continuous_update=False, \n",
    "                gamma=graphs.FloatSlider(min=0.1,max= 1.0,step=0.01,value=0.4, continuous_update=False),\n",
    "                V    =graphs.FloatSlider(min=1.0,max=10.0,step=0.01,value=5.48, continuous_update=False))"
   ]
  },
  {
   "cell_type": "markdown",
   "metadata": {},
   "source": [
    "Using the sliders, you can also recreate the four figures S1.A-D of the [Supplementary Information](http://www.pnas.org/content/suppl/2016/05/18/1506752113.DCSupplemental/pnas.201506752SI.pdf). The new value for $\\gamma$ and $V$ will be taken into account when you release the sliders, and the figure will take a few second to recompute. If the sliders do not work, reexecute the two previous code cells."
   ]
  },
  {
   "cell_type": "markdown",
   "metadata": {
    "collapsed": true
   },
   "source": [
    "## Figure 2B: Evolutionary Model"
   ]
  },
  {
   "cell_type": "markdown",
   "metadata": {},
   "source": [
    "Figure 2B depicts the dynamics of an evolutionary model. One difference between the evolutionary model and the previous figures is that we don't assume that the intelligence $I$ is a direct function of the radius of the head $R$ anymore. Rather, variations, from the parents to the child, are now linearly correlated between $R$ and $I$[[2]](#Footnotes).  \n",
    "\n",
    "We use a small class for the population. Each agent of the population is represented by its $R$, $T$ and $I$ parameters."
   ]
  },
  {
   "cell_type": "code",
   "execution_count": null,
   "metadata": {
    "collapsed": false
   },
   "outputs": [],
   "source": [
    "class Population:\n",
    "    \n",
    "    def __init__(self, R_0, T_0, N=1000, g=g, P_sb=P_sb, P_sc=P_sc, gamma=0.4, V=5.48, b=37.1, c=0.42):\n",
    "        I_0 = R_0                                                                 # I_0 equal to R_0 at initialization.\n",
    "        self.agents = [np.array((R_0 + np.random.normal(0,1),                     # N agents, with noisy but positive\n",
    "                                 T_0 + np.random.normal(0,1),                     # R, T and I values around R_0, \n",
    "                                 I_0 + np.random.normal(0,1))) for i in range(N)] # T_0 and I_0 respectively.\n",
    "        for agent in self.agents:\n",
    "            agent[agent < 1e-3] = 1e-3                                                            # enforcing minimums.\n",
    "\n",
    "        self.g, self.P_sb, self.P_sc = g, P_sb, P_sc\n",
    "        self.gamma, self.V, self.b, self.c = gamma, V, b, c\n",
    "                                \n",
    "        self.trace = []      # the average value of R, T and I will be appended there every time self.mean() is called.\n",
    "        self.mean()\n",
    "        \n",
    "    def survive(self, R, T, I):\n",
    "        \"\"\"Return True if the agent survives to adulthood.\"\"\"\n",
    "        if self.P_sb(T, R, g=self.g, V=self.V) > np.random.random():                                  # survived birth.\n",
    "            MT = solve_MT(R, g, b=self.b, c=self.c)\n",
    "            if self.P_sc(MT - T, I, gamma=self.gamma) > np.random.random():                       # survived childhood.\n",
    "                return True\n",
    "        return False\n",
    "        \n",
    "    def step(self):\n",
    "        \"\"\"Create a new agent from two random parents.\n",
    "        \n",
    "        If the child survives, it replaces a random agent in the population.\n",
    "        \"\"\"\n",
    "        idx_a, idx_b = np.random.choice(len(self.agents), 2)\n",
    "        p_a, p_b = self.agents[idx_a], self.agents[idx_b]              # 2 parents, chosen at random in the population.\n",
    "        R_p, T_p, I_p = np.mean((p_a, p_b), axis=0)                                         # averaging parents values.\n",
    "\n",
    "        T = T_p + np.random.normal(0, 1)                                        # random variations for child's values. \n",
    "        noise_RI = np.random.normal(0, 1)                                       # correlated variation between R and I.\n",
    "        R = R_p + noise_RI\n",
    "        I = I_p + 0.9*noise_RI + (1.0 - 0.9**2)**0.5 * np.random.normal(0, 1)\n",
    "        \n",
    "        child = np.array([R, T, I])\n",
    "        child[child < 1e-3] = 1e-3                                                 # set a hard minimum for R, T and I.\n",
    "        \n",
    "        if self.survive(R, T, I_p):\n",
    "            idx = np.random.randint(0, len(self.agents))                                      # picking a random agent.\n",
    "            self.agents[idx] = child                                                     # replacing it with the child.\n",
    "            \n",
    "    def mean(self):\n",
    "        \"\"\"Compute the mean R, T of the population\"\"\"\n",
    "        m = np.mean(self.agents, axis=0)\n",
    "        self.trace.append(m)\n",
    "        return m"
   ]
  },
  {
   "cell_type": "markdown",
   "metadata": {},
   "source": [
    "We create 100 different populations of 100 agents each. Each population has random starting values for $R$ and $T$ (with $0 < R_0 < 8$, $5 < T_0 < 25$, and $R_0 = I_0$), and each agent is given starting values around $R_0$, $T_0$ and $I_0$ with added noise (the noise between $R$ and $I$ is *not* correlated during initialization)."
   ]
  },
  {
   "cell_type": "code",
   "execution_count": null,
   "metadata": {
    "collapsed": false
   },
   "outputs": [],
   "source": [
    "traces = []\n",
    "for _ in range(100):                                                          # number of random populations to create.\n",
    "    pop = Population(np.random.uniform(0, 8), np.random.uniform(5, 25), gamma=0.4, V=5.48)\n",
    "    for i in range(100*len(pop.agents)):        # 100 generations, each generation last as long as the population size. \n",
    "        pop.step()\n",
    "        if (i+1) % len(pop.agents) == 0:\n",
    "            pop.mean()                                         # every generation, computing of the population average.\n",
    "    traces.append(pop.trace)                          # recording the evolution of the population average for plotting."
   ]
  },
  {
   "cell_type": "markdown",
   "metadata": {},
   "source": [
    "Figure 2B shows the average $R$ and $T$ values for each population with the starting average [3] displayed as a dot, and the evolution of those values through generations displayed as a line starting from that dot."
   ]
  },
  {
   "cell_type": "code",
   "execution_count": null,
   "metadata": {
    "collapsed": false
   },
   "outputs": [],
   "source": [
    "graphs.fig2b(D, traces)"
   ]
  },
  {
   "cell_type": "markdown",
   "metadata": {},
   "source": [
    "## Footnotes"
   ]
  },
  {
   "cell_type": "markdown",
   "metadata": {},
   "source": [
    "1. From the article: \"To create Fig. 2A, we have assumed that $I_p$, the parent’s intelligence, is equal to the child’s brain size at the limit of growth. This approximation holds in populations in which there are only small changes across generations.\" (page&nbsp;3).\n",
    "2. From the article: \"our model assumes that changes to intelligence are linearly correlated with changes to brain radius.\" ([Supplementary Information](http://www.pnas.org/content/suppl/2016/05/18/1506752113.DCSupplemental/pnas.201506752SI.pdf), page&nbsp;1)\n",
    "3. The displayed starting point is different from $R_0$, $T_0$ because it is the averaged value across the population. The effect is particularly important near zero, because noisy variations have all been clipped to be positive: the average $R$, $T$ value of the population is therefore never close to zero."
   ]
  },
  {
   "cell_type": "markdown",
   "metadata": {},
   "source": [
    " "
   ]
  }
 ],
 "metadata": {
  "kernelspec": {
   "display_name": "Python 3",
   "language": "python",
   "name": "python3"
  },
  "language_info": {
   "codemirror_mode": {
    "name": "ipython",
    "version": 3
   },
   "file_extension": ".py",
   "mimetype": "text/x-python",
   "name": "python",
   "nbconvert_exporter": "python",
   "pygments_lexer": "ipython3",
   "version": "3.5.2"
  },
  "widgets": {
   "state": {
    "6a4107bf2d77417292004684777df890": {
     "views": [
      {
       "cell_index": 21
      }
     ]
    },
    "ba81fd125f514150afa389ece60b9718": {
     "views": [
      {
       "cell_index": 28
      }
     ]
    }
   },
   "version": "1.2.0"
  }
 },
 "nbformat": 4,
 "nbformat_minor": 0
}
