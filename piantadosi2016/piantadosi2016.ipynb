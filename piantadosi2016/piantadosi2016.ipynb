{
 "cells": [
  {
   "cell_type": "markdown",
   "metadata": {},
   "source": [
    "# Recode: Extraordinary intelligence and the care of infants"
   ]
  },
  {
   "cell_type": "markdown",
   "metadata": {},
   "source": [
    "We recode here the model of the article \"[Extraordinary intelligence and the care of infants](http://www.pnas.org/cgi/doi/10.1073/pnas.1506752113)\" by Steve Piantadosi and Celeste Kidd. The pdf is [available here](http://www.bcs.rochester.edu/people/ckidd/papers/PiantadosiKidd2016Extraord.pdf). The spirit of this reimplementation is to use simple code, and allow the reader to explore and modify the model as easily as possible. All the code use is displayed, only the plotting routine are located in the external [graphs.py](graphs.py) file. \n",
    "\n",
    "We don't explain or defend the work of the authors. We only describe the model and provide a reimplementation."
   ]
  },
  {
   "cell_type": "code",
   "execution_count": null,
   "metadata": {
    "collapsed": false
   },
   "outputs": [],
   "source": [
    "import numpy as np\n",
    "import graphs"
   ]
  },
  {
   "cell_type": "markdown",
   "metadata": {},
   "source": [
    "Piantosi and Kidd's model ties together three main parameters:\n",
    "* $R$, the size of the adult brain.\n",
    "* $T$, the duration of the gestation period.\n",
    "* $I$, a quantification of intelligence."
   ]
  },
  {
   "cell_type": "markdown",
   "metadata": {},
   "source": [
    "## Figure 1: Child Growth, Birth and Childhood Survival"
   ]
  },
  {
   "cell_type": "markdown",
   "metadata": {},
   "source": [
    "$$g(x, R) = Re^{-be^{-cx}}$$"
   ]
  },
  {
   "cell_type": "code",
   "execution_count": null,
   "metadata": {
    "collapsed": true
   },
   "outputs": [],
   "source": [
    "def g(x, R, b=37.1, c=0.42):\n",
    "    return R * np.exp(-b * np.exp(-c * x))"
   ]
  },
  {
   "cell_type": "markdown",
   "metadata": {},
   "source": [
    "$$P(\\textrm{survive childbirth}\\,|\\,T,R) = \\phi(V - g(T,R))$$"
   ]
  },
  {
   "cell_type": "code",
   "execution_count": null,
   "metadata": {
    "collapsed": true
   },
   "outputs": [],
   "source": [
    "def phi(z):\n",
    "    return 1/(1 + np.exp(-z))\n",
    "\n",
    "def P_sc(T, R, V=5.48):\n",
    "    return phi(V-g(T, R))"
   ]
  },
  {
   "cell_type": "markdown",
   "metadata": {},
   "source": [
    "$$P(\\textrm{survive to adulthood}\\,|\\,M,I_p) = e^{-M(\\gamma/I_p)}$$"
   ]
  },
  {
   "cell_type": "code",
   "execution_count": null,
   "metadata": {
    "collapsed": true
   },
   "outputs": [],
   "source": [
    "def P_sa(M, I_p, gamma=0.4):\n",
    "    return np.exp(-M * gamma / I_p)"
   ]
  },
  {
   "cell_type": "code",
   "execution_count": null,
   "metadata": {
    "collapsed": false
   },
   "outputs": [],
   "source": [
    "xs = np.linspace(0, 25, 251)                                      ## i.e., xs = [0.0, 0.1, 0.2, ..., 24.8, 24.9, 25.0] \n",
    "fig1_data = graphs.fig1(xs, g, P_sc, P_sa, r=8.4/2)"
   ]
  },
  {
   "cell_type": "code",
   "execution_count": null,
   "metadata": {
    "collapsed": false,
    "scrolled": false
   },
   "outputs": [],
   "source": [
    "def update_fig1(r):\n",
    "    graphs.update_fig1(fig1_data, g, P_sc, P_sa, r)\n",
    "graphs.interact(update_fig1, r=graphs.FloatSlider(min=0.1,max=20.0,step=0.1,value=4.2))"
   ]
  },
  {
   "cell_type": "code",
   "execution_count": null,
   "metadata": {
    "collapsed": false
   },
   "outputs": [],
   "source": [
    "\n",
    "\n",
    "x2s = np.linspace(0, 30, 301) # birth age, 301 points between 0 and 30. \n",
    "y2s = np.linspace(0, 10, 301) # brain size (radius, cm), 301 point between 0 and 10.\n",
    "\n",
    "xx, yy = np.meshgrid(x2s, y2s) # every combination of x2s ans y2s.\n",
    "d = np.sin(xx)*np.cos(yy)  # "
   ]
  },
  {
   "cell_type": "code",
   "execution_count": null,
   "metadata": {
    "collapsed": true
   },
   "outputs": [],
   "source": [
    "def solve_M(r, g):\n",
    "    pass\n",
    "    "
   ]
  }
 ],
 "metadata": {
  "kernelspec": {
   "display_name": "Python 3",
   "language": "python",
   "name": "python3"
  },
  "language_info": {
   "codemirror_mode": {
    "name": "ipython",
    "version": 3
   },
   "file_extension": ".py",
   "mimetype": "text/x-python",
   "name": "python",
   "nbconvert_exporter": "python",
   "pygments_lexer": "ipython3",
   "version": "3.5.1"
  },
  "widgets": {
   "state": {
    "3443cdd775f64e099bba905047d7d87e": {
     "views": []
    },
    "473398ae1548443bb90942ba755f044f": {
     "views": [
      {
       "cell_index": 12
      }
     ]
    },
    "790ef0fda0474316a29fe80d6033d316": {
     "views": []
    },
    "95b61a9522084e92bb21e319bfc414f2": {
     "views": []
    },
    "a8a5ff77a45e4e49825426f750ab7eb6": {
     "views": []
    },
    "a94da2ca48194eef8e21cae4f99ab48a": {
     "views": []
    },
    "b4cd994c27214ae696d8e4995ca333ad": {
     "views": []
    },
    "d84988a812ee43728a71b8d2c6380a63": {
     "views": []
    }
   },
   "version": "1.1.2"
  }
 },
 "nbformat": 4,
 "nbformat_minor": 0
}
